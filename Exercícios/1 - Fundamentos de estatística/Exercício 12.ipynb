{
 "cells": [
  {
   "cell_type": "markdown",
   "id": "539d72c8",
   "metadata": {},
   "source": [
    "# Exercício 12"
   ]
  },
  {
   "cell_type": "markdown",
   "id": "2d71b412",
   "metadata": {},
   "source": [
    "Em uma amostra de 425 medições, observou-se que o peso médio dos \n",
    "produtos que foram medidos é 226g, com desvio padrão de 10g. Estabeleça o \n",
    "intervalo de confiança para esta média, sabendo que o desvio padrão \n",
    "observado é exatamente seu valor histórico. Considere um nível de confiança \n",
    "de 95%. "
   ]
  },
  {
   "cell_type": "code",
   "execution_count": 1,
   "id": "a991f42e",
   "metadata": {},
   "outputs": [],
   "source": [
    "import numpy as np\n",
    "from scipy.stats import norm"
   ]
  },
  {
   "cell_type": "code",
   "execution_count": 2,
   "id": "5de1dbcd",
   "metadata": {},
   "outputs": [],
   "source": [
    "# Dados do problema\n",
    "media = 226\n",
    "desvio = 10\n",
    "n = 425\n",
    "conf = 0.95"
   ]
  },
  {
   "cell_type": "code",
   "execution_count": 3,
   "id": "c69322e1",
   "metadata": {},
   "outputs": [],
   "source": [
    "# Valor crítico Z\n",
    "z = norm.ppf(1 - (1 - conf)/2)\n",
    "\n",
    "# Erro padrão\n",
    "erro_padrao = desvio / np.sqrt(n)\n",
    "\n",
    "# Intervalo de confiança\n",
    "lim_inferior = media - z * erro_padrao\n",
    "lim_superior = media + z * erro_padrao"
   ]
  },
  {
   "cell_type": "code",
   "execution_count": 4,
   "id": "b7faa5bc",
   "metadata": {},
   "outputs": [
    {
     "name": "stdout",
     "output_type": "stream",
     "text": [
      "=== Intervalo de Confiança para a Média (95%) ===\n",
      "Intervalo: (225.05g, 226.95g)\n"
     ]
    }
   ],
   "source": [
    "# Resultado\n",
    "print(\"=== Intervalo de Confiança para a Média (95%) ===\")\n",
    "print(f\"Intervalo: ({lim_inferior:.2f}g, {lim_superior:.2f}g)\")"
   ]
  }
 ],
 "metadata": {
  "kernelspec": {
   "display_name": "Python 3 (ipykernel)",
   "language": "python",
   "name": "python3"
  },
  "language_info": {
   "codemirror_mode": {
    "name": "ipython",
    "version": 3
   },
   "file_extension": ".py",
   "mimetype": "text/x-python",
   "name": "python",
   "nbconvert_exporter": "python",
   "pygments_lexer": "ipython3",
   "version": "3.9.13"
  }
 },
 "nbformat": 4,
 "nbformat_minor": 5
}
