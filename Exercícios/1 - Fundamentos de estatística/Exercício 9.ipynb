{
 "cells": [
  {
   "cell_type": "markdown",
   "id": "16b0a840",
   "metadata": {},
   "source": [
    "# Exercício 9"
   ]
  },
  {
   "cell_type": "markdown",
   "id": "55468155",
   "metadata": {},
   "source": [
    "(Fonte: Fávero e Belfiore, 2024, Cap. 7) Deseja-se comparar o tempo médio \n",
    "de espera para atendimento (min) em 2 hospitais. Para isso, coletou-se uma \n",
    "amostra com 20 pacientes em cada hospital. Verifique se há diferenças entre \n",
    "os tempos médios de espera nos dois hospitais. Considere α = 1%. Adicionalmente, calcule os intervalos de confiança para o tempo médio de \n",
    "espera nos dois hospitais. "
   ]
  },
  {
   "cell_type": "code",
   "execution_count": 1,
   "id": "724644ab",
   "metadata": {},
   "outputs": [],
   "source": [
    "import pandas as pd\n",
    "import numpy as np\n",
    "from scipy import stats"
   ]
  },
  {
   "cell_type": "code",
   "execution_count": 3,
   "id": "2538ef9e",
   "metadata": {},
   "outputs": [],
   "source": [
    "# Carregar os dados do Excel\n",
    "arquivo = \"Lista-de-Exercicios.xlsx\"\n",
    "df = pd.read_excel(arquivo, sheet_name=\"Exercício 9\", usecols=\"A:B\", skiprows=1)"
   ]
  },
  {
   "cell_type": "code",
   "execution_count": 4,
   "id": "56824773",
   "metadata": {},
   "outputs": [],
   "source": [
    "# Renomear as colunas para facilitar\n",
    "df.columns = ['Hospital_1', 'Hospital_2']\n",
    "\n",
    "# Remover valores ausentes, se houver\n",
    "df = df.dropna()\n",
    "\n",
    "# Separar os dados em duas variáveis\n",
    "h1 = df['Hospital_1']\n",
    "h2 = df['Hospital_2']"
   ]
  },
  {
   "cell_type": "code",
   "execution_count": 5,
   "id": "aca4ee43",
   "metadata": {},
   "outputs": [],
   "source": [
    "# Parâmetros do teste\n",
    "alpha = 0.01  # 1% de significância\n",
    "\n",
    "# Teste t para comparação de médias (amostras independentes, variâncias não assumidas como iguais)\n",
    "t_stat, p_valor = stats.ttest_ind(h1, h2, equal_var=False)\n",
    "\n",
    "# Cálculo dos intervalos de confiança (95%) para cada hospital\n",
    "conf_h1 = stats.t.interval(confidence=0.99, df=len(h1)-1, loc=np.mean(h1), scale=stats.sem(h1))\n",
    "conf_h2 = stats.t.interval(confidence=0.99, df=len(h2)-1, loc=np.mean(h2), scale=stats.sem(h2))"
   ]
  },
  {
   "cell_type": "code",
   "execution_count": 6,
   "id": "ac76419c",
   "metadata": {},
   "outputs": [
    {
     "name": "stdout",
     "output_type": "stream",
     "text": [
      "=== Teste t: Comparação de Médias ===\n",
      "Média Hospital 1: 82.00\n",
      "Média Hospital 2: 57.37\n",
      "t = 6.9543\n",
      "p-valor = 0.00000\n",
      "\n",
      "Conclusão: Rejeita-se H0.\n",
      "Há evidência de diferença significativa entre os tempos médios de espera.\n",
      "\n",
      "=== Intervalos de Confiança (99%) ===\n",
      "Hospital 1: (74.18, 89.82)\n",
      "Hospital 2: (50.82, 63.91)\n"
     ]
    }
   ],
   "source": [
    "# Exibir os resultados\n",
    "print(\"=== Teste t: Comparação de Médias ===\")\n",
    "print(f\"Média Hospital 1: {np.mean(h1):.2f}\")\n",
    "print(f\"Média Hospital 2: {np.mean(h2):.2f}\")\n",
    "print(f\"t = {t_stat:.4f}\")\n",
    "print(f\"p-valor = {p_valor:.5f}\")\n",
    "\n",
    "if p_valor < alpha:\n",
    "    print(\"\\nConclusão: Rejeita-se H0.\")\n",
    "    print(\"Há evidência de diferença significativa entre os tempos médios de espera.\")\n",
    "else:\n",
    "    print(\"\\nConclusão: Não se rejeita H0.\")\n",
    "    print(\"Não há evidência de diferença significativa entre os tempos médios de espera.\")\n",
    "\n",
    "print(\"\\n=== Intervalos de Confiança (99%) ===\")\n",
    "print(f\"Hospital 1: ({conf_h1[0]:.2f}, {conf_h1[1]:.2f})\")\n",
    "print(f\"Hospital 2: ({conf_h2[0]:.2f}, {conf_h2[1]:.2f})\")"
   ]
  }
 ],
 "metadata": {
  "kernelspec": {
   "display_name": "Python 3 (ipykernel)",
   "language": "python",
   "name": "python3"
  },
  "language_info": {
   "codemirror_mode": {
    "name": "ipython",
    "version": 3
   },
   "file_extension": ".py",
   "mimetype": "text/x-python",
   "name": "python",
   "nbconvert_exporter": "python",
   "pygments_lexer": "ipython3",
   "version": "3.9.13"
  }
 },
 "nbformat": 4,
 "nbformat_minor": 5
}
