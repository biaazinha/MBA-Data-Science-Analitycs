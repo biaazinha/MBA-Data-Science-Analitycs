{
 "cells": [
  {
   "cell_type": "markdown",
   "id": "69160a40",
   "metadata": {},
   "source": [
    "# Exercício 8"
   ]
  },
  {
   "cell_type": "markdown",
   "id": "23160d25",
   "metadata": {},
   "source": [
    "Foram coletados dados sobre a quantidade de chuva por dia (em milímetros), \n",
    "durante 14 dias, para dois locais distintos. O pesquisador notou que o local A \n",
    "aparenta ter maior variabilidade na quantidade chuva, comparativamente ao \n",
    "local B. Neste sentido, deseja testar a hipótese de que a variabilidade na \n",
    "quantidade de chuva é significativamente maior em A do que em B. Realize o \n",
    "teste F para testar tal hipótese."
   ]
  },
  {
   "cell_type": "code",
   "execution_count": 14,
   "id": "d02166ba",
   "metadata": {},
   "outputs": [],
   "source": [
    "# Imports\n",
    "import pandas as pd\n",
    "import numpy as np\n",
    "from scipy.stats import f"
   ]
  },
  {
   "cell_type": "code",
   "execution_count": 16,
   "id": "d9cad77a",
   "metadata": {},
   "outputs": [],
   "source": [
    "# Carregando o arquivo Excel\n",
    "arquivo = \"Lista-de-Exercicios.xlsx\"\n",
    "df = pd.read_excel(arquivo, sheet_name=\"Exercício 8\", usecols=\"A:B\", skiprows=1)"
   ]
  },
  {
   "cell_type": "code",
   "execution_count": 18,
   "id": "433d51c5",
   "metadata": {},
   "outputs": [],
   "source": [
    "# Renomeando colunas para facilitar\n",
    "df.columns = ['Local_A', 'Local_B']"
   ]
  },
  {
   "cell_type": "code",
   "execution_count": 19,
   "id": "7455366b",
   "metadata": {},
   "outputs": [],
   "source": [
    "# Removendo possíveis valores nulos\n",
    "df = df.dropna()"
   ]
  },
  {
   "cell_type": "code",
   "execution_count": 20,
   "id": "bdf48689",
   "metadata": {},
   "outputs": [],
   "source": [
    "# Obtendo os dados\n",
    "local_a = df['Local_A']\n",
    "local_b = df['Local_B']\n",
    "\n",
    "# Cálculo das variâncias amostrais\n",
    "var_a = np.var(local_a, ddof=1)\n",
    "var_b = np.var(local_b, ddof=1)\n",
    "\n",
    "# Estatística F\n",
    "f_stat = var_a / var_b"
   ]
  },
  {
   "cell_type": "code",
   "execution_count": 21,
   "id": "2e1216bb",
   "metadata": {},
   "outputs": [],
   "source": [
    "# Parâmetros do teste\n",
    "alpha = 0.05\n",
    "df1 = len(local_a) - 1\n",
    "df2 = len(local_b) - 1\n",
    "\n",
    "# Valor crítico F\n",
    "f_critico = f.ppf(1 - alpha, df1, df2)\n",
    "\n",
    "# p-valor\n",
    "p_valor = 1 - f.cdf(f_stat, df1, df2)"
   ]
  },
  {
   "cell_type": "code",
   "execution_count": 22,
   "id": "16644bf8",
   "metadata": {},
   "outputs": [
    {
     "name": "stdout",
     "output_type": "stream",
     "text": [
      "=== Teste F: Comparação de Variâncias ===\n",
      "Variância Local A: 11.9581\n",
      "Variância Local B: 4.4127\n",
      "Estatística F: 2.7099\n",
      "Valor Crítico F (α = 0.05): 2.6866\n",
      "p-valor: 0.04859\n"
     ]
    }
   ],
   "source": [
    "# Resultados\n",
    "print(\"=== Teste F: Comparação de Variâncias ===\")\n",
    "print(f\"Variância Local A: {var_a:.4f}\")\n",
    "print(f\"Variância Local B: {var_b:.4f}\")\n",
    "print(f\"Estatística F: {f_stat:.4f}\")\n",
    "print(f\"Valor Crítico F (α = 0.05): {f_critico:.4f}\")\n",
    "print(f\"p-valor: {p_valor:.5f}\")"
   ]
  },
  {
   "cell_type": "code",
   "execution_count": 23,
   "id": "eefbf034",
   "metadata": {},
   "outputs": [
    {
     "name": "stdout",
     "output_type": "stream",
     "text": [
      "\n",
      "Conclusão: Rejeita-se H0.\n",
      "A variância da amostra A é significativamente maior que a da amostra B.\n"
     ]
    }
   ],
   "source": [
    "# Conclusão\n",
    "if f_stat > f_critico:\n",
    "    print(\"\\nConclusão: Rejeita-se H0.\")\n",
    "    print(\"A variância da amostra A é significativamente maior que a da amostra B.\")\n",
    "else:\n",
    "    print(\"\\nConclusão: Não se rejeita H0.\")\n",
    "    print(\"Não há evidência de que a variância de A seja maior que a de B.\")"
   ]
  }
 ],
 "metadata": {
  "kernelspec": {
   "display_name": "Python 3 (ipykernel)",
   "language": "python",
   "name": "python3"
  },
  "language_info": {
   "codemirror_mode": {
    "name": "ipython",
    "version": 3
   },
   "file_extension": ".py",
   "mimetype": "text/x-python",
   "name": "python",
   "nbconvert_exporter": "python",
   "pygments_lexer": "ipython3",
   "version": "3.9.13"
  }
 },
 "nbformat": 4,
 "nbformat_minor": 5
}
