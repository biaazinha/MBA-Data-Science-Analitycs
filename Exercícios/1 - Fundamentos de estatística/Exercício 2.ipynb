{
 "cells": [
  {
   "cell_type": "markdown",
   "id": "407281a3",
   "metadata": {},
   "source": [
    "# Exercício 2"
   ]
  },
  {
   "cell_type": "markdown",
   "id": "dc1e12a6",
   "metadata": {},
   "source": [
    "Um analista do mercado acionário coletou os retornos mensais de duas \n",
    "ações que pretende indicar aos seus clientes. Calcule as estatísticas \n",
    "descritivas para as duas variáveis. Posteriormente, analise o coeficiente de correlação de Pearson \n",
    "entre os retornos."
   ]
  },
  {
   "cell_type": "code",
   "execution_count": 26,
   "id": "48fd961e",
   "metadata": {},
   "outputs": [],
   "source": [
    "# Imports\n",
    "import pandas as pd"
   ]
  },
  {
   "cell_type": "code",
   "execution_count": 27,
   "id": "c9c3fdf1",
   "metadata": {},
   "outputs": [],
   "source": [
    "# Carregando o arquivo Excel\n",
    "arquivo = \"Lista-de-Exercicios.xlsx\"\n",
    "# Carregar apenas as colunas B e C (Ação 1 e Ação 2)\n",
    "df = pd.read_excel(\"Lista-de-Exercicios.xlsx\", sheet_name=\"Exercício 2\", usecols=\"B:C\")"
   ]
  },
  {
   "cell_type": "code",
   "execution_count": 28,
   "id": "8b6754af",
   "metadata": {},
   "outputs": [
    {
     "name": "stdout",
     "output_type": "stream",
     "text": [
      "   Ação 1  Ação 2\n",
      "0 -0.0212  0.2645\n",
      "1  0.2438  0.2086\n",
      "2  0.2296  0.1248\n",
      "3 -0.2018  0.0209\n",
      "4  0.1296  0.2055\n"
     ]
    }
   ],
   "source": [
    "# Exibir as primeiras linhas para conferência\n",
    "print(df.head())"
   ]
  },
  {
   "cell_type": "code",
   "execution_count": 29,
   "id": "e8c08703",
   "metadata": {},
   "outputs": [],
   "source": [
    "# Estatísticas descritivas\n",
    "estatisticas = df.describe()"
   ]
  },
  {
   "cell_type": "code",
   "execution_count": 30,
   "id": "72763806",
   "metadata": {},
   "outputs": [],
   "source": [
    "# Correlação de Pearson\n",
    "correlacao = df.corr(method='pearson')"
   ]
  },
  {
   "cell_type": "code",
   "execution_count": 31,
   "id": "ed4cdb28",
   "metadata": {},
   "outputs": [
    {
     "name": "stdout",
     "output_type": "stream",
     "text": [
      "Estatísticas descritivas:\n",
      "          Ação 1     Ação 2\n",
      "count  23.000000  23.000000\n",
      "mean    0.035204   0.151135\n",
      "std     0.129221   0.203822\n",
      "min    -0.201800  -0.149000\n",
      "25%    -0.061200   0.020400\n",
      "50%     0.037000   0.124800\n",
      "75%     0.116050   0.233300\n",
      "max     0.281400   0.626000\n"
     ]
    }
   ],
   "source": [
    "print(\"Estatísticas descritivas:\")\n",
    "print(estatisticas)"
   ]
  },
  {
   "cell_type": "code",
   "execution_count": 32,
   "id": "2143fd7d",
   "metadata": {},
   "outputs": [
    {
     "name": "stdout",
     "output_type": "stream",
     "text": [
      "Coeficiente de Correlação de Pearson:\n",
      "          Ação 1    Ação 2\n",
      "Ação 1  1.000000  0.290819\n",
      "Ação 2  0.290819  1.000000\n"
     ]
    }
   ],
   "source": [
    "print(\"Coeficiente de Correlação de Pearson:\")\n",
    "print(correlacao)"
   ]
  }
 ],
 "metadata": {
  "kernelspec": {
   "display_name": "Python 3 (ipykernel)",
   "language": "python",
   "name": "python3"
  },
  "language_info": {
   "codemirror_mode": {
    "name": "ipython",
    "version": 3
   },
   "file_extension": ".py",
   "mimetype": "text/x-python",
   "name": "python",
   "nbconvert_exporter": "python",
   "pygments_lexer": "ipython3",
   "version": "3.9.13"
  }
 },
 "nbformat": 4,
 "nbformat_minor": 5
}
