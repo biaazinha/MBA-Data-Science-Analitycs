{
 "cells": [
  {
   "cell_type": "markdown",
   "id": "ce0083ef",
   "metadata": {},
   "source": [
    "# Exercício 10"
   ]
  },
  {
   "cell_type": "markdown",
   "id": "0a3cb7b4",
   "metadata": {},
   "source": [
    "(Fonte: Fávero e Belfiore, 2024, Cap. 7) Um fabricante de iogurtes \n",
    "desnatados afirma que a quantidade de calorias em cada pote é 60 cal. Para \n",
    "verificar se essa informação procede, uma amostra aleatória com 36 potes é \n",
    "coletada, observando-se que a quantidade média de calorias é de 65 cal com \n",
    "desvio-padrão 3,5. Aplique o teste adequado e verifique se a afirmação do \n",
    "fabricante é verdadeira, considerando o nível de significância de 5%. "
   ]
  },
  {
   "cell_type": "code",
   "execution_count": 1,
   "id": "e7fa3bc6",
   "metadata": {},
   "outputs": [],
   "source": [
    "from scipy import stats\n",
    "import numpy as np"
   ]
  },
  {
   "cell_type": "code",
   "execution_count": 2,
   "id": "743f9d33",
   "metadata": {},
   "outputs": [],
   "source": [
    "# Dados do problema\n",
    "media_amostral = 65      # média observada\n",
    "media_hipotese = 60      # média alegada pelo fabricante (H0)\n",
    "desvio_amostral = 3.5    # desvio padrão da amostra\n",
    "n = 36                   # tamanho da amostra\n",
    "alpha = 0.05             # nível de significância"
   ]
  },
  {
   "cell_type": "code",
   "execution_count": 3,
   "id": "68bc0683",
   "metadata": {},
   "outputs": [],
   "source": [
    "# Estatística do teste t\n",
    "t_stat = (media_amostral - media_hipotese) / (desvio_amostral / np.sqrt(n))\n",
    "\n",
    "# Graus de liberdade\n",
    "df = n - 1\n",
    "\n",
    "# p-valor (teste unicaudal à direita)\n",
    "p_valor = 1 - stats.t.cdf(t_stat, df)\n",
    "\n",
    "# Valor crítico t para cauda superior\n",
    "t_critico = stats.t.ppf(1 - alpha, df)"
   ]
  },
  {
   "cell_type": "code",
   "execution_count": 4,
   "id": "defb0894",
   "metadata": {},
   "outputs": [
    {
     "name": "stdout",
     "output_type": "stream",
     "text": [
      "=== Teste t para uma amostra ===\n",
      "Estatística t: 8.5714\n",
      "Valor crítico t (α = 5%): 1.6896\n",
      "p-valor: 0.00000\n"
     ]
    }
   ],
   "source": [
    "# Exibir resultados\n",
    "print(\"=== Teste t para uma amostra ===\")\n",
    "print(f\"Estatística t: {t_stat:.4f}\")\n",
    "print(f\"Valor crítico t (α = 5%): {t_critico:.4f}\")\n",
    "print(f\"p-valor: {p_valor:.5f}\")"
   ]
  },
  {
   "cell_type": "code",
   "execution_count": 5,
   "id": "1f6e78e2",
   "metadata": {},
   "outputs": [
    {
     "name": "stdout",
     "output_type": "stream",
     "text": [
      "\n",
      "Conclusão: Rejeita-se H0.\n",
      "Há evidência de que a média de calorias é maior do que 60 calorias por pote.\n"
     ]
    }
   ],
   "source": [
    "# Conclusão\n",
    "if t_stat > t_critico:\n",
    "    print(\"\\nConclusão: Rejeita-se H0.\")\n",
    "    print(\"Há evidência de que a média de calorias é maior do que 60 calorias por pote.\")\n",
    "else:\n",
    "    print(\"\\nConclusão: Não se rejeita H0.\")\n",
    "    print(\"Não há evidência suficiente para afirmar que a média de calorias é maior do que 60.\")"
   ]
  }
 ],
 "metadata": {
  "kernelspec": {
   "display_name": "Python 3 (ipykernel)",
   "language": "python",
   "name": "python3"
  },
  "language_info": {
   "codemirror_mode": {
    "name": "ipython",
    "version": 3
   },
   "file_extension": ".py",
   "mimetype": "text/x-python",
   "name": "python",
   "nbconvert_exporter": "python",
   "pygments_lexer": "ipython3",
   "version": "3.9.13"
  }
 },
 "nbformat": 4,
 "nbformat_minor": 5
}
