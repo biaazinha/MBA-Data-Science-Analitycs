{
 "cells": [
  {
   "cell_type": "markdown",
   "id": "6e2584d7",
   "metadata": {},
   "source": [
    "# Exercício 7"
   ]
  },
  {
   "cell_type": "markdown",
   "id": "77d3c927",
   "metadata": {},
   "source": [
    " (Fonte: Fávero e Belfiore, 2024, Cap. 8) Um grupo de 60 leitores fez uma \n",
    "avaliação de três livros de romance e, ao final, escolheram uma das três \n",
    "opções. Teste a hipótese nula de que não há diferença na preferência dos \n",
    "leitores, ao nível de significância de 5%."
   ]
  },
  {
   "cell_type": "code",
   "execution_count": 1,
   "id": "8b8242e9",
   "metadata": {},
   "outputs": [],
   "source": [
    "# Exemplo fictício de dados observados:\n",
    "observados = [20, 25, 15]  # Número de votos para cada livro"
   ]
  },
  {
   "cell_type": "code",
   "execution_count": 3,
   "id": "b1921f08",
   "metadata": {},
   "outputs": [
    {
     "name": "stdout",
     "output_type": "stream",
     "text": [
      "Estatística qui-quadrado: 2.5000\n",
      "Valor-p: 0.2865\n",
      "Rejeita H0: Há evidências de preferência entre os livros.\n"
     ]
    }
   ],
   "source": [
    "from scipy.stats import chisquare\n",
    "\n",
    "# Valores esperados (distribuição uniforme)\n",
    "esperados = [20, 20, 20]\n",
    "\n",
    "# Qui-quadrado\n",
    "qui2, p_valor = chisquare(f_obs=observados, f_exp=esperados)\n",
    "\n",
    "# Exibindo os resultados\n",
    "print(f\"Estatística qui-quadrado: {qui2:.4f}\")\n",
    "print(f\"Valor-p: {p_valor:.4f}\")\n",
    "\n",
    "# Conclusão\n",
    "if p_valor < 0.5:\n",
    "    print(\"Rejeita H0: Há evidências de preferência entre os livros.\")\n",
    "else:\n",
    "    print(\"Não rejeita H0: Não há evidências de preferência entre os livros.\")"
   ]
  }
 ],
 "metadata": {
  "kernelspec": {
   "display_name": "Python 3 (ipykernel)",
   "language": "python",
   "name": "python3"
  },
  "language_info": {
   "codemirror_mode": {
    "name": "ipython",
    "version": 3
   },
   "file_extension": ".py",
   "mimetype": "text/x-python",
   "name": "python",
   "nbconvert_exporter": "python",
   "pygments_lexer": "ipython3",
   "version": "3.9.13"
  }
 },
 "nbformat": 4,
 "nbformat_minor": 5
}
