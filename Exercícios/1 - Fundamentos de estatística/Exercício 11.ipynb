{
 "cells": [
  {
   "cell_type": "markdown",
   "id": "051a3914",
   "metadata": {},
   "source": [
    "# Exercício 11"
   ]
  },
  {
   "cell_type": "markdown",
   "id": "efa79b86",
   "metadata": {},
   "source": [
    "Em uma indústria alimentícia, para a preparação de certo produto, a \n",
    "quantidade padrão de sal são 8g com desvio padrão igual a 1g. Na análise de \n",
    "uma amostra de 85 produtos, foi observada uma quantidade média de sal de \n",
    "8,25g. Avalie se a quantidade observada na amostra pode ser considerada \n",
    "estatisticamente maior, ao nível de significância de 5%."
   ]
  },
  {
   "cell_type": "code",
   "execution_count": 1,
   "id": "a44491c9",
   "metadata": {},
   "outputs": [],
   "source": [
    "from scipy.stats import norm\n",
    "import numpy as np"
   ]
  },
  {
   "cell_type": "code",
   "execution_count": 2,
   "id": "88c9872a",
   "metadata": {},
   "outputs": [],
   "source": [
    "# Dados do problema\n",
    "media_pop = 8\n",
    "media_amostral = 8.25\n",
    "desvio_pop = 1\n",
    "n = 85\n",
    "alpha = 0.05"
   ]
  },
  {
   "cell_type": "code",
   "execution_count": 3,
   "id": "59054250",
   "metadata": {},
   "outputs": [],
   "source": [
    "# Estatística Z\n",
    "z = (media_amostral - media_pop) / (desvio_pop / np.sqrt(n))\n",
    "\n",
    "# Valor crítico Z para cauda superior\n",
    "z_critico = norm.ppf(1 - alpha)\n",
    "\n",
    "# p-valor\n",
    "p_valor = 1 - norm.cdf(z)"
   ]
  },
  {
   "cell_type": "code",
   "execution_count": 4,
   "id": "4d62b284",
   "metadata": {},
   "outputs": [
    {
     "name": "stdout",
     "output_type": "stream",
     "text": [
      "=== Teste Z para uma amostra ===\n",
      "Estatística Z: 2.3049\n",
      "Valor crítico Z (α = 5%): 1.6449\n",
      "p-valor: 0.01059\n"
     ]
    }
   ],
   "source": [
    "# Resultados\n",
    "print(\"=== Teste Z para uma amostra ===\")\n",
    "print(f\"Estatística Z: {z:.4f}\")\n",
    "print(f\"Valor crítico Z (α = 5%): {z_critico:.4f}\")\n",
    "print(f\"p-valor: {p_valor:.5f}\")"
   ]
  },
  {
   "cell_type": "code",
   "execution_count": 5,
   "id": "daf359cc",
   "metadata": {},
   "outputs": [
    {
     "name": "stdout",
     "output_type": "stream",
     "text": [
      "\n",
      "Conclusão: Rejeita-se H0.\n",
      "A média observada é estatisticamente maior do que a média padrão de 8g.\n"
     ]
    }
   ],
   "source": [
    "# Conclusão\n",
    "if z > z_critico:\n",
    "    print(\"\\nConclusão: Rejeita-se H0.\")\n",
    "    print(\"A média observada é estatisticamente maior do que a média padrão de 8g.\")\n",
    "else:\n",
    "    print(\"\\nConclusão: Não se rejeita H0.\")\n",
    "    print(\"Não há evidência suficiente para afirmar que a média é maior que 8g.\")"
   ]
  }
 ],
 "metadata": {
  "kernelspec": {
   "display_name": "Python 3 (ipykernel)",
   "language": "python",
   "name": "python3"
  },
  "language_info": {
   "codemirror_mode": {
    "name": "ipython",
    "version": 3
   },
   "file_extension": ".py",
   "mimetype": "text/x-python",
   "name": "python",
   "nbconvert_exporter": "python",
   "pygments_lexer": "ipython3",
   "version": "3.9.13"
  }
 },
 "nbformat": 4,
 "nbformat_minor": 5
}
