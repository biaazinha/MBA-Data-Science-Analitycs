{
 "cells": [
  {
   "cell_type": "markdown",
   "id": "829681d7",
   "metadata": {},
   "source": [
    "# Exercício 5"
   ]
  },
  {
   "cell_type": "markdown",
   "id": "79e75198",
   "metadata": {},
   "source": [
    "Suponha que o número de acidentes de trânsito em determinada cidade seja, \n",
    "em média, de 5 acidentes por dia e que siga uma distribuição Poisson. Calcule \n",
    "a probabilidade de que, em tal cidade, ocorram 9 acidentes de trânsito em um \n",
    "dia."
   ]
  },
  {
   "cell_type": "code",
   "execution_count": 1,
   "id": "0f2e5280",
   "metadata": {},
   "outputs": [],
   "source": [
    "from scipy.stats import poisson"
   ]
  },
  {
   "cell_type": "code",
   "execution_count": 2,
   "id": "73042a52",
   "metadata": {},
   "outputs": [],
   "source": [
    "# parâmetros\n",
    "lamb = 5   # média de acidentes por dia\n",
    "k = 9      # número de acidentes desejado"
   ]
  },
  {
   "cell_type": "code",
   "execution_count": 3,
   "id": "e7f4717b",
   "metadata": {},
   "outputs": [
    {
     "name": "stdout",
     "output_type": "stream",
     "text": [
      "Probabilidade de ocorrerem 9 acidentes em um dia: 0.036266 (3.6266%)\n"
     ]
    }
   ],
   "source": [
    "# cálculo da probabilidade\n",
    "prob = poisson.pmf(k, lamb)\n",
    "print(f\"Probabilidade de ocorrerem 9 acidentes em um dia: {prob:.6f} ({prob*100:.4f}%)\")"
   ]
  }
 ],
 "metadata": {
  "kernelspec": {
   "display_name": "Python 3 (ipykernel)",
   "language": "python",
   "name": "python3"
  },
  "language_info": {
   "codemirror_mode": {
    "name": "ipython",
    "version": 3
   },
   "file_extension": ".py",
   "mimetype": "text/x-python",
   "name": "python",
   "nbconvert_exporter": "python",
   "pygments_lexer": "ipython3",
   "version": "3.9.13"
  }
 },
 "nbformat": 4,
 "nbformat_minor": 5
}
