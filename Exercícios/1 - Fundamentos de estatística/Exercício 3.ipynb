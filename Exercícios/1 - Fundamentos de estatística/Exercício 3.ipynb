{
 "cells": [
  {
   "cell_type": "markdown",
   "id": "f0f3c5dc",
   "metadata": {},
   "source": [
    "# Exercício 3"
   ]
  },
  {
   "cell_type": "markdown",
   "id": "c85db248",
   "metadata": {},
   "source": [
    "Em certo jogo, probabilidade de vitória (sucesso) a cada nova jogada é 1/6. \n",
    "Se forem feitas 10 jogadas, quais são as seguintes probabilidades: \n",
    "\n",
    "a) Ter vitória em 4 jogadas. \n",
    "\n",
    "b) Ter vitória em pelo menos 7 jogadas."
   ]
  },
  {
   "cell_type": "code",
   "execution_count": 2,
   "id": "bbe4d36d",
   "metadata": {},
   "outputs": [],
   "source": [
    "# Imports\n",
    "from scipy.stats import binom"
   ]
  },
  {
   "cell_type": "code",
   "execution_count": 3,
   "id": "66767e3a",
   "metadata": {},
   "outputs": [],
   "source": [
    "n = 10        # número de jogadas\n",
    "p = 1/6       # probabilidade de vitória"
   ]
  },
  {
   "cell_type": "code",
   "execution_count": 4,
   "id": "b19eae66",
   "metadata": {},
   "outputs": [
    {
     "name": "stdout",
     "output_type": "stream",
     "text": [
      "Probabilidade de 4 vitórias: 0.0543 (5.43%)\n"
     ]
    }
   ],
   "source": [
    "prob_4 = binom.pmf(4, n, p)\n",
    "print(f\"Probabilidade de 4 vitórias: {prob_4:.4f} ({prob_4*100:.2f}%)\")"
   ]
  },
  {
   "cell_type": "code",
   "execution_count": 5,
   "id": "2e82a2b0",
   "metadata": {},
   "outputs": [
    {
     "name": "stdout",
     "output_type": "stream",
     "text": [
      "Probabilidade de pelo menos 7 vitórias: 0.000268 (0.0268%)\n"
     ]
    }
   ],
   "source": [
    "prob_7_ou_mais = 1 - binom.cdf(6, n, p)\n",
    "print(f\"Probabilidade de pelo menos 7 vitórias: {prob_7_ou_mais:.6f} ({prob_7_ou_mais*100:.4f}%)\")"
   ]
  }
 ],
 "metadata": {
  "kernelspec": {
   "display_name": "Python 3 (ipykernel)",
   "language": "python",
   "name": "python3"
  },
  "language_info": {
   "codemirror_mode": {
    "name": "ipython",
    "version": 3
   },
   "file_extension": ".py",
   "mimetype": "text/x-python",
   "name": "python",
   "nbconvert_exporter": "python",
   "pygments_lexer": "ipython3",
   "version": "3.9.13"
  }
 },
 "nbformat": 4,
 "nbformat_minor": 5
}
