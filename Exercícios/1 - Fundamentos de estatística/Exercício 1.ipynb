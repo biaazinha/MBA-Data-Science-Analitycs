{
 "cells": [
  {
   "cell_type": "markdown",
   "id": "092744aa",
   "metadata": {},
   "source": [
    "# Exercício 1"
   ]
  },
  {
   "cell_type": "markdown",
   "id": "424ea94c",
   "metadata": {},
   "source": [
    "Na análise de concessão de empréstimos, uma variável potencialmente \n",
    "importante é a renda da pessoa. O gerente de um banco coleta uma base de \n",
    "dados de seus correntistas e extrai a variável “renda mensal (R$)” para 50 \n",
    "pessoas. Embora se trate de uma variável quantitativa, deseja realizar uma \n",
    "análise por meio de tabela de frequências. Neste sentido, pede-se:  \n",
    "a) Classifique os correntistas em faixas de renda, sendo: 0-2.000; 2.001-4.000; \n",
    "4.001-6.000; 6.001-8.000; 8.001-10.000 e 10.001-12.000.   \n",
    "b) Em seguida, elabore a tabela de frequências para as faixas de renda acima. "
   ]
  },
  {
   "cell_type": "code",
   "execution_count": 1,
   "id": "4f997c50",
   "metadata": {},
   "outputs": [],
   "source": [
    "# Imports \n",
    "import pandas as pd\n",
    "import matplotlib.pyplot as plt"
   ]
  },
  {
   "cell_type": "code",
   "execution_count": 2,
   "id": "cd600cf6",
   "metadata": {},
   "outputs": [],
   "source": [
    "# Carregando o arquivo Excel\n",
    "arquivo = \"Lista-de-Exercicios.xlsx\"\n",
    "df = pd.read_excel(arquivo, sheet_name=\"Exercício 1\", usecols=\"B\", skiprows=1)\n",
    "df.columns = ['Renda (R$)']  # Renomeando a coluna"
   ]
  },
  {
   "cell_type": "code",
   "execution_count": 3,
   "id": "22f677a8",
   "metadata": {},
   "outputs": [],
   "source": [
    "# Definindo as faixas de renda\n",
    "bins = [0, 2000, 4000, 6000, 8000, 10000, 12000]\n",
    "labels = ['0-2.000', '2.001-4.000', '4.001-6.000', '6.001-8.000', '8.001-10.000', '10.001-12.000']"
   ]
  },
  {
   "cell_type": "code",
   "execution_count": 4,
   "id": "2b3ca064",
   "metadata": {},
   "outputs": [],
   "source": [
    "# Criando a coluna de faixas\n",
    "df['Faixa de Renda'] = pd.cut(df['Renda (R$)'], bins=bins, labels=labels, right=True)"
   ]
  },
  {
   "cell_type": "code",
   "execution_count": 11,
   "id": "7352ae84",
   "metadata": {},
   "outputs": [],
   "source": [
    "# Tabela de frequências\n",
    "frequencia_abs = df['Faixa de Renda'].value_counts(sort=False)\n",
    "frequencia_rel = (frequencia_abs / frequencia_abs.sum()).round(2)\n",
    "\n",
    "# Acumuladas\n",
    "freq_abs_ac = frequencia_abs.cumsum()\n",
    "freq_rel_ac = (freq_abs_ac / frequencia_abs.sum() * 100).round(0)"
   ]
  },
  {
   "cell_type": "code",
   "execution_count": 12,
   "id": "3c65cbe9",
   "metadata": {},
   "outputs": [],
   "source": [
    "# Criar tabela final\n",
    "tabela = pd.DataFrame({\n",
    "    'Frequência Absoluta': frequencia_abs,\n",
    "    'Frequência Relativa': frequencia_rel,\n",
    "    'Freq. Absoluta Acumulada': freq_abs_ac,\n",
    "    'Freq. Relativa Acumulada (%)': freq_rel_ac\n",
    "})\n",
    "tabela.index.name = 'Faixa de Renda'\n",
    "tabela.reset_index(inplace=True)"
   ]
  },
  {
   "cell_type": "code",
   "execution_count": 13,
   "id": "b46bf5be",
   "metadata": {
    "scrolled": true
   },
   "outputs": [
    {
     "data": {
      "text/html": [
       "<div>\n",
       "<style scoped>\n",
       "    .dataframe tbody tr th:only-of-type {\n",
       "        vertical-align: middle;\n",
       "    }\n",
       "\n",
       "    .dataframe tbody tr th {\n",
       "        vertical-align: top;\n",
       "    }\n",
       "\n",
       "    .dataframe thead th {\n",
       "        text-align: right;\n",
       "    }\n",
       "</style>\n",
       "<table border=\"1\" class=\"dataframe\">\n",
       "  <thead>\n",
       "    <tr style=\"text-align: right;\">\n",
       "      <th></th>\n",
       "      <th>Faixa de Renda</th>\n",
       "      <th>Frequência Absoluta</th>\n",
       "      <th>Frequência Relativa</th>\n",
       "      <th>Freq. Absoluta Acumulada</th>\n",
       "      <th>Freq. Relativa Acumulada (%)</th>\n",
       "    </tr>\n",
       "  </thead>\n",
       "  <tbody>\n",
       "    <tr>\n",
       "      <th>0</th>\n",
       "      <td>0-2.000</td>\n",
       "      <td>9</td>\n",
       "      <td>0.18</td>\n",
       "      <td>9</td>\n",
       "      <td>18.0</td>\n",
       "    </tr>\n",
       "    <tr>\n",
       "      <th>1</th>\n",
       "      <td>2.001-4.000</td>\n",
       "      <td>18</td>\n",
       "      <td>0.37</td>\n",
       "      <td>27</td>\n",
       "      <td>55.0</td>\n",
       "    </tr>\n",
       "    <tr>\n",
       "      <th>2</th>\n",
       "      <td>4.001-6.000</td>\n",
       "      <td>11</td>\n",
       "      <td>0.22</td>\n",
       "      <td>38</td>\n",
       "      <td>78.0</td>\n",
       "    </tr>\n",
       "    <tr>\n",
       "      <th>3</th>\n",
       "      <td>6.001-8.000</td>\n",
       "      <td>5</td>\n",
       "      <td>0.10</td>\n",
       "      <td>43</td>\n",
       "      <td>88.0</td>\n",
       "    </tr>\n",
       "    <tr>\n",
       "      <th>4</th>\n",
       "      <td>8.001-10.000</td>\n",
       "      <td>4</td>\n",
       "      <td>0.08</td>\n",
       "      <td>47</td>\n",
       "      <td>96.0</td>\n",
       "    </tr>\n",
       "    <tr>\n",
       "      <th>5</th>\n",
       "      <td>10.001-12.000</td>\n",
       "      <td>2</td>\n",
       "      <td>0.04</td>\n",
       "      <td>49</td>\n",
       "      <td>100.0</td>\n",
       "    </tr>\n",
       "  </tbody>\n",
       "</table>\n",
       "</div>"
      ],
      "text/plain": [
       "  Faixa de Renda  Frequência Absoluta  Frequência Relativa  \\\n",
       "0        0-2.000                    9                 0.18   \n",
       "1    2.001-4.000                   18                 0.37   \n",
       "2    4.001-6.000                   11                 0.22   \n",
       "3    6.001-8.000                    5                 0.10   \n",
       "4   8.001-10.000                    4                 0.08   \n",
       "5  10.001-12.000                    2                 0.04   \n",
       "\n",
       "   Freq. Absoluta Acumulada  Freq. Relativa Acumulada (%)  \n",
       "0                         9                          18.0  \n",
       "1                        27                          55.0  \n",
       "2                        38                          78.0  \n",
       "3                        43                          88.0  \n",
       "4                        47                          96.0  \n",
       "5                        49                         100.0  "
      ]
     },
     "execution_count": 13,
     "metadata": {},
     "output_type": "execute_result"
    }
   ],
   "source": [
    "# Exibir a tabela\n",
    "tabela"
   ]
  },
  {
   "cell_type": "code",
   "execution_count": 20,
   "id": "a386faa5",
   "metadata": {},
   "outputs": [
    {
     "data": {
      "image/png": "[encoded data removed]",
      "text/plain": [
       "<Figure size 800x500 with 1 Axes>"
      ]
     },
     "metadata": {},
     "output_type": "display_data"
    }
   ],
   "source": [
    "# Gráfico \n",
    "plt.figure(figsize=(8,5))\n",
    "plt.bar(tabela['Faixa de Renda'], tabela['Frequência Absoluta'], color='pink')\n",
    "plt.xlabel('Faixa de Renda')\n",
    "plt.ylabel('Frequência Absoluta')\n",
    "plt.title('Distribuição dos Correntistas por Faixa de Renda')\n",
    "plt.grid(axis='y', linestyle='--', alpha=0.6)\n",
    "plt.tight_layout()\n",
    "plt.show()"
   ]
  }
 ],
 "metadata": {
  "kernelspec": {
   "display_name": "Python 3 (ipykernel)",
   "language": "python",
   "name": "python3"
  },
  "language_info": {
   "codemirror_mode": {
    "name": "ipython",
    "version": 3
   },
   "file_extension": ".py",
   "mimetype": "text/x-python",
   "name": "python",
   "nbconvert_exporter": "python",
   "pygments_lexer": "ipython3",
   "version": "3.9.13"
  }
 },
 "nbformat": 4,
 "nbformat_minor": 5
}
