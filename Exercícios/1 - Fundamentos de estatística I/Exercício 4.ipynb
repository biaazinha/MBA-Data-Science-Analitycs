{
 "cells": [
  {
   "cell_type": "markdown",
   "id": "5c8311aa",
   "metadata": {},
   "source": [
    "# Exercício 4"
   ]
  },
  {
   "cell_type": "markdown",
   "id": "9970ecf9",
   "metadata": {},
   "source": [
    "(Fonte: Fávero e Belfiore, 2024, Cap. 5) Suponha que um aluno acerte três \n",
    "questões a cada cinco testes. Seja X o número de tentativas até o décimo \n",
    "segundo acerto. Determine a probabilidade de que o aluno precise fazer 20 \n",
    "questões para acertar 12. "
   ]
  },
  {
   "cell_type": "code",
   "execution_count": 1,
   "id": "7e15fb63",
   "metadata": {},
   "outputs": [],
   "source": [
    "from scipy.stats import nbinom"
   ]
  },
  {
   "cell_type": "code",
   "execution_count": 2,
   "id": "d9a9c33b",
   "metadata": {},
   "outputs": [],
   "source": [
    "# parâmetros\n",
    "r = 12           # número de sucessos (acertos)\n",
    "p = 0.6          # probabilidade de sucesso\n",
    "x = 20           # número total de tentativas (questões feitas)"
   ]
  },
  {
   "cell_type": "code",
   "execution_count": 3,
   "id": "1d80dc4c",
   "metadata": {},
   "outputs": [
    {
     "name": "stdout",
     "output_type": "stream",
     "text": [
      "Probabilidade de acertar o 12º acerto na 20ª questão: 0.107823 (10.7823%)\n"
     ]
    }
   ],
   "source": [
    "# cálculo da probabilidade\n",
    "prob = nbinom.pmf(x - r, r, p)  # em scipy, usamos 'x - r' tentativas falhas antes do 12º sucesso\n",
    "print(f\"Probabilidade de acertar o 12º acerto na 20ª questão: {prob:.6f} ({prob*100:.4f}%)\")"
   ]
  }
 ],
 "metadata": {
  "kernelspec": {
   "display_name": "Python 3 (ipykernel)",
   "language": "python",
   "name": "python3"
  },
  "language_info": {
   "codemirror_mode": {
    "name": "ipython",
    "version": 3
   },
   "file_extension": ".py",
   "mimetype": "text/x-python",
   "name": "python",
   "nbconvert_exporter": "python",
   "pygments_lexer": "ipython3",
   "version": "3.9.13"
  }
 },
 "nbformat": 4,
 "nbformat_minor": 5
}
