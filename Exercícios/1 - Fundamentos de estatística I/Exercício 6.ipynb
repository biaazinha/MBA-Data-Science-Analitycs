{
 "cells": [
  {
   "cell_type": "markdown",
   "id": "9b31335f",
   "metadata": {},
   "source": [
    "# Exercício 6"
   ]
  },
  {
   "cell_type": "markdown",
   "id": "8556ffc3",
   "metadata": {},
   "source": [
    "Nos últimos meses, foram feitas medições do tempo decorrido entre o início \n",
    "e finalização de uma das etapas do processo de produção de certo produto. O \n",
    "tempo médio foi calculado em 26,5 minutos e o desvio padrão foi de 4,0 \n",
    "minutos. Sabendo que tal variável segue uma distribuição normal, identifique \n",
    "as seguintes informações: \n",
    "    \n",
    "a) P(X>37) \n",
    "\n",
    "b) P(X<20) \n",
    "\n",
    "c) P(22<X<28)"
   ]
  },
  {
   "cell_type": "code",
   "execution_count": 1,
   "id": "ce26282c",
   "metadata": {},
   "outputs": [],
   "source": [
    "from scipy.stats import norm"
   ]
  },
  {
   "cell_type": "code",
   "execution_count": 2,
   "id": "61862680",
   "metadata": {},
   "outputs": [],
   "source": [
    "# parâmetros\n",
    "mu = 26.5\n",
    "sigma = 4.0"
   ]
  },
  {
   "cell_type": "code",
   "execution_count": 3,
   "id": "47621859",
   "metadata": {},
   "outputs": [],
   "source": [
    "# a) P(X > 37)\n",
    "z_a = (37 - mu) / sigma\n",
    "p_a = 1 - norm.cdf(z_a)"
   ]
  },
  {
   "cell_type": "code",
   "execution_count": 4,
   "id": "e8e63fb7",
   "metadata": {},
   "outputs": [],
   "source": [
    "# b) P(X < 20)\n",
    "z_b = (20 - mu) / sigma\n",
    "p_b = norm.cdf(z_b)"
   ]
  },
  {
   "cell_type": "code",
   "execution_count": 5,
   "id": "4acddbcf",
   "metadata": {},
   "outputs": [],
   "source": [
    "# c) P(22 < X < 28)\n",
    "z_c1 = (22 - mu) / sigma\n",
    "z_c2 = (28 - mu) / sigma\n",
    "p_c = norm.cdf(z_c2) - norm.cdf(z_c1)"
   ]
  },
  {
   "cell_type": "code",
   "execution_count": 6,
   "id": "a11c6347",
   "metadata": {},
   "outputs": [
    {
     "name": "stdout",
     "output_type": "stream",
     "text": [
      "a) P(X > 37)     = 0.004332 (0.4332%)\n",
      "b) P(X < 20)     = 0.052081 (5.2081%)\n",
      "c) P(22 < X < 28)= 0.515875 (51.5875%)\n"
     ]
    }
   ],
   "source": [
    "# imprimindo os resultados\n",
    "print(f\"a) P(X > 37)     = {p_a:.6f} ({p_a*100:.4f}%)\")\n",
    "print(f\"b) P(X < 20)     = {p_b:.6f} ({p_b*100:.4f}%)\")\n",
    "print(f\"c) P(22 < X < 28)= {p_c:.6f} ({p_c*100:.4f}%)\")"
   ]
  }
 ],
 "metadata": {
  "kernelspec": {
   "display_name": "Python 3 (ipykernel)",
   "language": "python",
   "name": "python3"
  },
  "language_info": {
   "codemirror_mode": {
    "name": "ipython",
    "version": 3
   },
   "file_extension": ".py",
   "mimetype": "text/x-python",
   "name": "python",
   "nbconvert_exporter": "python",
   "pygments_lexer": "ipython3",
   "version": "3.9.13"
  }
 },
 "nbformat": 4,
 "nbformat_minor": 5
}
